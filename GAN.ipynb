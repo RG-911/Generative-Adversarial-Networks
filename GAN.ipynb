{
 "cells": [
  {
   "cell_type": "markdown",
   "id": "alone-swift",
   "metadata": {},
   "source": [
    "### IMPORT LIBRARIES"
   ]
  },
  {
   "cell_type": "code",
   "execution_count": 58,
   "id": "satisfactory-special",
   "metadata": {},
   "outputs": [],
   "source": [
    "# Data Manipulation:\n",
    "import numpy as np\n",
    "import pandas as pd\n",
    "\n",
    "# Data Visualisation:\n",
    "import matplotlib.pyplot as plt\n",
    "\n",
    "# Dataset:\n",
    "from tensorflow.keras.datasets import mnist\n",
    "\n",
    "# Model:\n",
    "import tensorflow as tf\n",
    "from tensorflow.keras.models import Sequential\n",
    "from tensorflow.keras.layers import Dense, Reshape, Flatten"
   ]
  },
  {
   "cell_type": "code",
   "execution_count": 59,
   "id": "waiting-excellence",
   "metadata": {},
   "outputs": [],
   "source": [
    "(X_train, y_train), (X_test, y_test) = mnist.load_data()"
   ]
  },
  {
   "cell_type": "code",
   "execution_count": 60,
   "id": "dietary-monday",
   "metadata": {},
   "outputs": [
    {
     "data": {
      "text/plain": [
       "<matplotlib.image.AxesImage at 0x1ce09740f40>"
      ]
     },
     "execution_count": 60,
     "metadata": {},
     "output_type": "execute_result"
    },
    {
     "data": {
      "image/png": "[encoded data removed]",
      "text/plain": [
       "<Figure size 432x288 with 1 Axes>"
      ]
     },
     "metadata": {
      "needs_background": "light"
     },
     "output_type": "display_data"
    }
   ],
   "source": [
    "plt.imshow(X_train[0])"
   ]
  },
  {
   "cell_type": "code",
   "execution_count": 61,
   "id": "contained-diagram",
   "metadata": {},
   "outputs": [
    {
     "data": {
      "text/plain": [
       "array([5, 0, 4, ..., 5, 6, 8], dtype=uint8)"
      ]
     },
     "execution_count": 61,
     "metadata": {},
     "output_type": "execute_result"
    }
   ],
   "source": [
    "y_train"
   ]
  },
  {
   "cell_type": "markdown",
   "id": "previous-tournament",
   "metadata": {},
   "source": [
    "### CHOOSE A RANFDOM NUMBER"
   ]
  },
  {
   "cell_type": "code",
   "execution_count": 62,
   "id": "threatened-lounge",
   "metadata": {},
   "outputs": [],
   "source": [
    "only_zeros = X_train[y_train==0]"
   ]
  },
  {
   "cell_type": "code",
   "execution_count": 63,
   "id": "metallic-landscape",
   "metadata": {},
   "outputs": [
    {
     "data": {
      "text/plain": [
       "(5923, 28, 28)"
      ]
     },
     "execution_count": 63,
     "metadata": {},
     "output_type": "execute_result"
    }
   ],
   "source": [
    "only_zeros.shape"
   ]
  },
  {
   "cell_type": "markdown",
   "id": "complex-globe",
   "metadata": {},
   "source": [
    "### Discriminator"
   ]
  },
  {
   "cell_type": "code",
   "execution_count": 64,
   "id": "sorted-sending",
   "metadata": {},
   "outputs": [],
   "source": [
    "discriminator = Sequential()\n",
    "\n",
    "discriminator.add(Flatten(input_shape=[28,28]))\n",
    "discriminator.add(Dense(150, activation = 'relu'))\n",
    "discriminator.add(Dense(100, activation='relu'))\n",
    "# FINAL OUTPUT LAYER\n",
    "discriminator.add(Dense(1, activation='sigmoid'))\n",
    "\n",
    "discriminator.compile(loss='binary_crossentropy', optimizer='adam')"
   ]
  },
  {
   "cell_type": "markdown",
   "id": "assigned-thesis",
   "metadata": {},
   "source": [
    "### GENERATOR"
   ]
  },
  {
   "cell_type": "code",
   "execution_count": 65,
   "id": "iraqi-rebecca",
   "metadata": {},
   "outputs": [],
   "source": [
    "coding_size = 100\n",
    "\n",
    "generator = Sequential()\n",
    "\n",
    "generator.add(Dense(100, activation = 'relu', input_shape=[coding_size]))\n",
    "generator.add(Dense(150, activation = 'relu'))\n",
    "generator.add(Dense(784, activation = 'relu'))\n",
    "generator.add(Reshape([28,28]))"
   ]
  },
  {
   "cell_type": "markdown",
   "id": "stupid-forward",
   "metadata": {},
   "source": [
    "### GAN"
   ]
  },
  {
   "cell_type": "code",
   "execution_count": 66,
   "id": "boolean-marketplace",
   "metadata": {},
   "outputs": [],
   "source": [
    "gan = Sequential([generator, discriminator])"
   ]
  },
  {
   "cell_type": "code",
   "execution_count": 67,
   "id": "purple-stranger",
   "metadata": {},
   "outputs": [],
   "source": [
    "discriminator.trainable = False"
   ]
  },
  {
   "cell_type": "code",
   "execution_count": 68,
   "id": "figured-candy",
   "metadata": {},
   "outputs": [],
   "source": [
    "gan.compile(loss='binary_crossentropy', optimizer = 'adam')"
   ]
  },
  {
   "cell_type": "markdown",
   "id": "discrete-privacy",
   "metadata": {},
   "source": [
    "### MODEL"
   ]
  },
  {
   "cell_type": "code",
   "execution_count": 69,
   "id": "retained-theorem",
   "metadata": {},
   "outputs": [],
   "source": [
    "batch_size = 32"
   ]
  },
  {
   "cell_type": "code",
   "execution_count": 70,
   "id": "champion-tuition",
   "metadata": {},
   "outputs": [],
   "source": [
    "my_dataset = only_zeros"
   ]
  },
  {
   "cell_type": "code",
   "execution_count": 71,
   "id": "special-measurement",
   "metadata": {},
   "outputs": [],
   "source": [
    "dataset = tf.data.Dataset.from_tensor_slices(my_dataset).shuffle(buffer_size=1000)"
   ]
  },
  {
   "cell_type": "code",
   "execution_count": 72,
   "id": "corporate-payday",
   "metadata": {},
   "outputs": [
    {
     "data": {
      "text/plain": [
       "tensorflow.python.data.ops.dataset_ops.ShuffleDataset"
      ]
     },
     "execution_count": 72,
     "metadata": {},
     "output_type": "execute_result"
    }
   ],
   "source": [
    "type(dataset)"
   ]
  },
  {
   "cell_type": "code",
   "execution_count": 73,
   "id": "statutory-mainstream",
   "metadata": {},
   "outputs": [],
   "source": [
    "dataset=dataset.batch(batch_size, drop_remainder=True).prefetch(1)"
   ]
  },
  {
   "cell_type": "code",
   "execution_count": 74,
   "id": "bored-royal",
   "metadata": {},
   "outputs": [],
   "source": [
    "epochs = 1"
   ]
  },
  {
   "cell_type": "code",
   "execution_count": 75,
   "id": "current-reference",
   "metadata": {},
   "outputs": [
    {
     "name": "stdout",
     "output_type": "stream",
     "text": [
      "Model: \"sequential_6\"\n",
      "_________________________________________________________________\n",
      "Layer (type)                 Output Shape              Param #   \n",
      "=================================================================\n",
      "dense_12 (Dense)             (None, 100)               10100     \n",
      "_________________________________________________________________\n",
      "dense_13 (Dense)             (None, 150)               15150     \n",
      "_________________________________________________________________\n",
      "dense_14 (Dense)             (None, 784)               118384    \n",
      "_________________________________________________________________\n",
      "reshape_1 (Reshape)          (None, 28, 28)            0         \n",
      "=================================================================\n",
      "Total params: 143,634\n",
      "Trainable params: 143,634\n",
      "Non-trainable params: 0\n",
      "_________________________________________________________________\n"
     ]
    }
   ],
   "source": [
    "gan.layers[0].layers\n",
    "gan.layers[0].summary()"
   ]
  },
  {
   "cell_type": "code",
   "execution_count": 76,
   "id": "social-bunch",
   "metadata": {},
   "outputs": [
    {
     "name": "stdout",
     "output_type": "stream",
     "text": [
      "Model: \"sequential_5\"\n",
      "_________________________________________________________________\n",
      "Layer (type)                 Output Shape              Param #   \n",
      "=================================================================\n",
      "flatten_2 (Flatten)          (None, 784)               0         \n",
      "_________________________________________________________________\n",
      "dense_9 (Dense)              (None, 150)               117750    \n",
      "_________________________________________________________________\n",
      "dense_10 (Dense)             (None, 100)               15100     \n",
      "_________________________________________________________________\n",
      "dense_11 (Dense)             (None, 1)                 101       \n",
      "=================================================================\n",
      "Total params: 132,951\n",
      "Trainable params: 0\n",
      "Non-trainable params: 132,951\n",
      "_________________________________________________________________\n"
     ]
    }
   ],
   "source": [
    "gan.layers[1].layers\n",
    "gan.layers[1].summary()"
   ]
  },
  {
   "cell_type": "code",
   "execution_count": 77,
   "id": "close-rates",
   "metadata": {},
   "outputs": [],
   "source": [
    "# Grab the seprate components\n",
    "genarator, discriminator = gan.layers"
   ]
  },
  {
   "cell_type": "code",
   "execution_count": 79,
   "id": "honey-equipment",
   "metadata": {},
   "outputs": [
    {
     "name": "stdout",
     "output_type": "stream",
     "text": [
      "Currently on Epoch1\n",
      "\t Currently on Batch number 100 of 185\n",
      "TRAINING COMPLETE\n"
     ]
    }
   ],
   "source": [
    "for epoch in range(epochs):\n",
    "    print(f\"Currently on Epoch{epoch+1}\")\n",
    "    i = 0\n",
    "\n",
    "for X_batch in dataset:\n",
    "    i = i+1\n",
    "    \n",
    "    if i%100==0:\n",
    "        print(f\"\\t Currently on Batch number {i} of {len(my_dataset)//batch_size}\")\n",
    "    \n",
    "    #DISCRIMINATOR TRAINING PHASE\n",
    "    noise = tf.random.normal(shape=[batch_size, coding_size])\n",
    "    \n",
    "    gen_images = generator(noise)\n",
    "    \n",
    "    X_fake_vs_real = tf.concat([gen_images,tf.dtypes.cast(X_batch, tf.float32)],axis=0)\n",
    "    \n",
    "    y1 = tf.constant([[0.0]]*batch_size + [[1.0]]*batch_size)\n",
    "    \n",
    "    discriminator.trainable=True\n",
    "    \n",
    "    discriminator.train_on_batch(X_fake_vs_real, y1)\n",
    "    \n",
    "    \n",
    "    #TRAIN GENERATOR\n",
    "    noise = tf.random.normal(shape=[batch_size, coding_size])\n",
    "    \n",
    "    y2 = tf.constant([[1.0]]*batch_size)\n",
    "    discriminator.trainable=False\n",
    "    \n",
    "    gan.train_on_batch(noise,y2)\n",
    "    \n",
    "    \n",
    "print(\"TRAINING COMPLETE\")"
   ]
  },
  {
   "cell_type": "code",
   "execution_count": 80,
   "id": "contained-slovak",
   "metadata": {},
   "outputs": [],
   "source": [
    "noise = tf.random.normal(shape=[10, coding_size])"
   ]
  },
  {
   "cell_type": "code",
   "execution_count": 81,
   "id": "physical-calculator",
   "metadata": {},
   "outputs": [
    {
     "data": {
      "text/plain": [
       "TensorShape([10, 100])"
      ]
     },
     "execution_count": 81,
     "metadata": {},
     "output_type": "execute_result"
    }
   ],
   "source": [
    "noise.shape"
   ]
  },
  {
   "cell_type": "code",
   "execution_count": 82,
   "id": "elementary-clearance",
   "metadata": {},
   "outputs": [
    {
     "data": {
      "text/plain": [
       "<matplotlib.image.AxesImage at 0x1ce0e5aa1c0>"
      ]
     },
     "execution_count": 82,
     "metadata": {},
     "output_type": "execute_result"
    },
    {
     "data": {
      "image/png": "[encoded data removed]",
      "text/plain": [
       "<Figure size 432x288 with 1 Axes>"
      ]
     },
     "metadata": {
      "needs_background": "light"
     },
     "output_type": "display_data"
    }
   ],
   "source": [
    "plt.imshow(noise)"
   ]
  },
  {
   "cell_type": "code",
   "execution_count": 83,
   "id": "effective-punishment",
   "metadata": {},
   "outputs": [],
   "source": [
    "images = generator(noise)"
   ]
  },
  {
   "cell_type": "code",
   "execution_count": 88,
   "id": "constitutional-oklahoma",
   "metadata": {},
   "outputs": [
    {
     "data": {
      "text/plain": [
       "<matplotlib.image.AxesImage at 0x1ce06565940>"
      ]
     },
     "execution_count": 88,
     "metadata": {},
     "output_type": "execute_result"
    },
    {
     "data": {
      "image/png": "[encoded data removed]",
      "text/plain": [
       "<Figure size 432x288 with 1 Axes>"
      ]
     },
     "metadata": {
      "needs_background": "light"
     },
     "output_type": "display_data"
    }
   ],
   "source": [
    "plt.imshow(images[0])"
   ]
  },
  {
   "cell_type": "code",
   "execution_count": 87,
   "id": "municipal-weekly",
   "metadata": {},
   "outputs": [
    {
     "data": {
      "text/plain": [
       "<matplotlib.image.AxesImage at 0x1ce065d8790>"
      ]
     },
     "execution_count": 87,
     "metadata": {},
     "output_type": "execute_result"
    },
    {
     "data": {
      "image/png": "[encoded data removed]",
      "text/plain": [
       "<Figure size 432x288 with 1 Axes>"
      ]
     },
     "metadata": {
      "needs_background": "light"
     },
     "output_type": "display_data"
    }
   ],
   "source": [
    "plt.imshow(images[1])"
   ]
  },
  {
   "cell_type": "code",
   "execution_count": null,
   "id": "regular-mercury",
   "metadata": {},
   "outputs": [],
   "source": []
  }
 ],
 "metadata": {
  "kernelspec": {
   "display_name": "Python 3",
   "language": "python",
   "name": "python3"
  },
  "language_info": {
   "codemirror_mode": {
    "name": "ipython",
    "version": 3
   },
   "file_extension": ".py",
   "mimetype": "text/x-python",
   "name": "python",
   "nbconvert_exporter": "python",
   "pygments_lexer": "ipython3",
   "version": "3.8.6"
  }
 },
 "nbformat": 4,
 "nbformat_minor": 5
}
